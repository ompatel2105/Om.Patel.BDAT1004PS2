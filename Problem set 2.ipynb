{
 "cells": [
  {
   "cell_type": "markdown",
   "id": "b84cd85f",
   "metadata": {},
   "source": [
    "# NAME:Om Patel\n",
    "# Submission: Problem Set 2\n",
    "# Student Id: 200504246"
   ]
  },
  {
   "cell_type": "markdown",
   "id": "dfeca01e",
   "metadata": {},
   "source": [
    "# Question 1\n",
    "Consider the following Python module:"
   ]
  },
  {
   "cell_type": "code",
   "execution_count": 3,
   "id": "2d836637",
   "metadata": {},
   "outputs": [
    {
     "data": {
      "text/plain": [
       "6"
      ]
     },
     "execution_count": 3,
     "metadata": {},
     "output_type": "execute_result"
    }
   ],
   "source": [
    "a =0\n",
    "def b():\n",
    "    global a\n",
    "    a=c(a)\n",
    "    \n",
    "    \n",
    "def c(a):\n",
    "    return a+2\n",
    "\n",
    "b()\n",
    "b()\n",
    "b()\n",
    "a"
   ]
  },
  {
   "cell_type": "markdown",
   "id": "2ab2a58c",
   "metadata": {},
   "source": [
    "Q) What value is displayed when the last expression (a) is evaluated? Explain your\n",
    "answer by indicating what happens in every executed statement."
   ]
  },
  {
   "cell_type": "markdown",
   "id": "9745d59e",
   "metadata": {},
   "source": [
    "In starting a is initializing as 0. After creating b() then we have global declared a as 0 which means in all the functions a will be considered as 0.\n",
    "\n",
    "Then when we run our first function b() in which a=c(a) so then c function is called in which a+2 means 0+2 which in return gives 2 that means a values have become 2 now so due to this when we call b() the first time it will show 2.\n",
    "\n",
    "When we call b() again as a value has changed from 0 to 2. so when we call b() again 2 will be added again with the variable a so the answer we get is 4.\n",
    "\n",
    "Then again we call be b() so 2 will be added. As every time we call b() 2 will be added so in the third time it will show 6 as three-time b() have called.\n",
    "\n",
    "So that is how we will get as our output at last."
   ]
  },
  {
   "cell_type": "markdown",
   "id": "1cdff5d1",
   "metadata": {},
   "source": [
    "# Question 2\n",
    "Function fileLength(), given to you, takes the name of a file as input and returns\n",
    "the length of the file:\n"
   ]
  },
  {
   "cell_type": "code",
   "execution_count": 16,
   "id": "69c4aba8",
   "metadata": {},
   "outputs": [
    {
     "name": "stdout",
     "output_type": "stream",
     "text": [
      "66\n",
      "This File C:\\Users\\My PC\\OneDrive\\Desktop\\ompate.txt is Not Found\n"
     ]
    }
   ],
   "source": [
    "def file_length(file_name):\n",
    "    try:\n",
    "        file = open(file_name)\n",
    "        contents = file.read()\n",
    "        file.close()\n",
    "        print(len(contents))\n",
    "    except:\n",
    "        print(\"This File \" + file_name + \" is Not Found\" )\n",
    "file_length(\"C:\\\\Users\\\\My PC\\\\OneDrive\\\\Desktop\\\\ompatel.txt\")\n",
    "file_length(\"C:\\\\Users\\\\My PC\\\\OneDrive\\\\Desktop\\\\ompate.txt\")"
   ]
  },
  {
   "cell_type": "markdown",
   "id": "20bf2840",
   "metadata": {},
   "source": [
    "# Question 3\n",
    "Write a class named Marsupial that can be used as shown below:\n"
   ]
  },
  {
   "cell_type": "code",
   "execution_count": 70,
   "id": "18f01c24",
   "metadata": {},
   "outputs": [
    {
     "name": "stdout",
     "output_type": "stream",
     "text": [
      "['doll', 'firetruck', 'kitten']\n"
     ]
    }
   ],
   "source": [
    "class Marsupial:\n",
    "\n",
    "    def __init__(self):\n",
    "        self.lit = []\n",
    "\n",
    "    def put_in_pouch(self, chara):\n",
    "        self.lit.append(chara)\n",
    "\n",
    "    def pouch_contents(self):\n",
    "        print(self.lit)\n",
    "\n",
    "m = Marsupial()\n",
    "m.put_in_pouch('doll')\n",
    "m.put_in_pouch('firetruck')\n",
    "m.put_in_pouch('kitten')\n",
    "m.pouch_contents()"
   ]
  },
  {
   "cell_type": "code",
   "execution_count": 82,
   "id": "edf095e8",
   "metadata": {},
   "outputs": [],
   "source": [
    "class kangaroo(Marsupial):\n",
    "    \n",
    "    def __init__(self,x=0,y=0):\n",
    "        Marsupial.__init__(self)\n",
    "        self.dx = x\n",
    "        self.dy = y\n",
    "        \n",
    "    def jump(self,x,y):\n",
    "        self.dx += x\n",
    "        self.dy += y\n",
    "        \n",
    "    def __str__(self):\n",
    "         return \"I am kangaroo located at coordinates ({0},{1})\".format(self.dx,self.dy)"
   ]
  },
  {
   "cell_type": "code",
   "execution_count": 83,
   "id": "1c63d695",
   "metadata": {},
   "outputs": [
    {
     "name": "stdout",
     "output_type": "stream",
     "text": [
      "I am kangaroo located at coordinates (0,0)\n"
     ]
    }
   ],
   "source": [
    "k = kangaroo(0,0)\n",
    "print(k)"
   ]
  },
  {
   "cell_type": "code",
   "execution_count": 103,
   "id": "190f17d2",
   "metadata": {},
   "outputs": [
    {
     "name": "stdout",
     "output_type": "stream",
     "text": [
      "['doll', 'firetruck', 'kitten']\n",
      "\n",
      "I am kangaroo located at coordinates (3,0)\n"
     ]
    }
   ],
   "source": [
    "k.put_in_pouch('doll')\n",
    "k.put_in_pouch('firetruck')\n",
    "k.put_in_pouch('kitten')\n",
    "k.pouch_contents()\n",
    "print(\"\")\n",
    "k = kangaroo(0,0)\n",
    "k.jump(1,0)\n",
    "k.jump(1,0)\n",
    "k.jump(1,0)\n",
    "print(k)"
   ]
  },
  {
   "cell_type": "markdown",
   "id": "fb7f26a2",
   "metadata": {},
   "source": [
    "# Question 4\n",
    "Write function collatz() that takes a positive integer x as input and prints the\n",
    "Collatz sequence starting at x. A Collatz sequence is obtained by repeatedly applying\n",
    "this rule to the previous number x in the sequence:\n"
   ]
  },
  {
   "cell_type": "code",
   "execution_count": 120,
   "id": "3718fa18",
   "metadata": {},
   "outputs": [
    {
     "name": "stdout",
     "output_type": "stream",
     "text": [
      "10\n",
      "5\n",
      "16\n",
      "8\n",
      "4\n",
      "2\n"
     ]
    },
    {
     "data": {
      "text/plain": [
       "1"
      ]
     },
     "execution_count": 120,
     "metadata": {},
     "output_type": "execute_result"
    }
   ],
   "source": [
    "def collatz(x):\n",
    "    \n",
    "    if (x==1):\n",
    "        return 1\n",
    "    elif (x%2 == 0):\n",
    "        print(x)\n",
    "        x=x//2\n",
    "        return collatz(x)\n",
    "    else:\n",
    "        print(x)\n",
    "        x=3*x+2\n",
    "        return collatz(x)\n",
    "        \n",
    "collatz(10)       "
   ]
  },
  {
   "cell_type": "code",
   "execution_count": 117,
   "id": "9a92867f",
   "metadata": {},
   "outputs": [
    {
     "data": {
      "text/plain": [
       "1"
      ]
     },
     "execution_count": 117,
     "metadata": {},
     "output_type": "execute_result"
    }
   ],
   "source": [
    "collatz(1)"
   ]
  },
  {
   "cell_type": "markdown",
   "id": "ebab2521",
   "metadata": {},
   "source": [
    "# Question 5\n",
    "Write a recursive method binary() that takes a non-negative\n",
    "integer n and prints the binary representation of integer n."
   ]
  },
  {
   "cell_type": "code",
   "execution_count": 162,
   "id": "dfbfc225",
   "metadata": {},
   "outputs": [
    {
     "name": "stdout",
     "output_type": "stream",
     "text": [
      "0\n",
      "1\n",
      "11\n",
      "1001\n"
     ]
    }
   ],
   "source": [
    "def binary(n):\n",
    "    if n<2:\n",
    "        print (n,end='')\n",
    "    else:\n",
    "        binary(n//2)\n",
    "        print (n%2,end='') \n",
    "         \n",
    "binary(0)\n",
    "print(\"\")\n",
    "binary(1)\n",
    "print(\"\")\n",
    "binary(3)\n",
    "print(\"\")\n",
    "binary(9)\n",
    "print(\"\")"
   ]
  },
  {
   "cell_type": "markdown",
   "id": "caa941a6",
   "metadata": {},
   "source": [
    "# Question 6\n",
    "Implement a class named HeadingParser that can be used to parse an HTML document, and retrieve and print all the headings in the document. You should implement your class as a subclass of HTMLParser, defined in Standard Library module html.parser. When fed a string containing HTML code, your class should print the headings, one per line and in the order in which they appear in the document. Each heading should be indented as follows: an h1 heading should have indentation 0, and h2 heading should have indentation 1, etc. Test your implementation using w3c.html."
   ]
  },
  {
   "cell_type": "code",
   "execution_count": 161,
   "id": "fa300d70",
   "metadata": {},
   "outputs": [
    {
     "name": "stdout",
     "output_type": "stream",
     "text": [
      "W3C Mission\n",
      "\tPrinciples\n",
      " \n",
      "\n",
      "\n",
      "\n"
     ]
    }
   ],
   "source": [
    "from html.parser import HTMLParser\n",
    "\n",
    "class HeadingParser(HTMLParser):\n",
    "    def __init__(self):\n",
    "        HTMLParser.__init__(self)\n",
    "        self.tag = ''\n",
    "    def handle_starttag(self, tag,attrs):\n",
    "        self.tag = tag\n",
    "        #print(tag)\n",
    "    def handle_data(self, data):\n",
    "        if self.tag in ['h1','h2','h3','h4','h5','h6']:\n",
    "            n=int(self.tag[1])\n",
    "            print(n*''+data, end ='')\n",
    "infile = open('w3c.html')\n",
    "content = infile.read()\n",
    "infile.close()\n",
    "\n",
    "parser = HeadingParser()\n",
    "parser.feed(content)"
   ]
  },
  {
   "cell_type": "markdown",
   "id": "1ea306cc",
   "metadata": {},
   "source": [
    "# Question 7\n",
    "Implement recursive function webdir() that takes as input: a URL (as a string) and\n",
    "non-negative integers depth and indent. Your function should visit every web\n",
    "page reachable from the starting URL web page in depth clicks or less, and print\n",
    "each web page's URL. As shown below, indentation, specified by indent, should\n",
    "be used to indicate the depth of a URL."
   ]
  },
  {
   "cell_type": "code",
   "execution_count": null,
   "id": "a36aa2c1",
   "metadata": {},
   "outputs": [],
   "source": [
    "from html.parser import HTMLParser\n",
    "from urllib.request import urlopen\n",
    "from urllib.parse import urljoin\n",
    "class Collect(HTMLParser):\n",
    "    def __init__(self, url):\n",
    "        HTMLParser.__init__(self)\n",
    "        self.url = url\n",
    "        self.url_links = []\n",
    "   \n",
    "    def handle_starttag(self, tag, attrs):\n",
    "        if tag == 'a':\n",
    "            for attr in attrs:\n",
    "                if attr[0] == 'href':\n",
    "                    absolute = urljoin(self.url, attr[1])\n",
    "                    if absolute[:4] == 'http':\n",
    "                        self.link.append(absolute)\n",
    "def direc(url, depth, i=0):\n",
    "        #depth = depth - 1\n",
    "        print(i*'  ', url)\n",
    "        content = urlopen(url).read().decode()\n",
    "        collector = Collect(url)\n",
    "        collector.feed(content)\n",
    "        urls = collector.append()\n",
    "        url_links = urls\n",
    "        i= i + 4\n",
    "        for link in url_links:\n",
    "            if depth < 0 or i < 0:\n",
    "                return 1\n",
    "            else:\n",
    "                webdir(link, depth, i)\n",
    "                \n",
    "webdir('http://reed.cs.depaul.edu/lperkovic/test1.html', 2, 0)"
   ]
  },
  {
   "cell_type": "markdown",
   "id": "98134208",
   "metadata": {},
   "source": [
    "# Question 8\n",
    "Write SQL queries on the below database table that return:"
   ]
  },
  {
   "cell_type": "code",
   "execution_count": 13,
   "id": "8c7e4b12",
   "metadata": {},
   "outputs": [
    {
     "data": {
      "text/plain": [
       "<sqlite3.Cursor at 0x1839da69e30>"
      ]
     },
     "execution_count": 13,
     "metadata": {},
     "output_type": "execute_result"
    }
   ],
   "source": [
    "import sqlite3\n",
    "SQL=sqlite3.connect('SQLdatabase2.db')\n",
    "SQLCU=SQL.cursor()\n",
    "\n",
    "SQLCU.execute(\"Create table Seasontabl (city text, country text, season text, Temperature float, Rainfall float)\")\n",
    "SQLCU.execute(\"INSERT INTO Seasontabl VALUES ('Mumbai','India', 'Winter', 24.8, 5.9)\")\n",
    "SQLCU.execute(\"INSERT INTO Seasontabl VALUES ('Mumbai','India', 'Spring', 28.4, 16.2)\")\n",
    "SQLCU.execute(\"INSERT INTO Seasontabl VALUES ('Mumbai','India', 'Summer', 27.9, 1549.4)\")\n",
    "SQLCU.execute(\"INSERT INTO Seasontabl VALUES ('Mumbai','India', 'Fall', 27.6, 346.0)\")\n",
    "SQLCU.execute(\"INSERT INTO Seasontabl VALUES ('London','United Kingdom', 'Winter', 4.2, 207.7)\")\n",
    "SQLCU.execute(\"INSERT INTO Seasontabl VALUES ('London','United Kingdom', 'Spring', 8.3, 169.6)\")\n",
    "SQLCU.execute(\"INSERT INTO Seasontabl VALUES ('London','United Kingdom', 'Summer', 15.7, 157.0)\")\n",
    "SQLCU.execute(\"INSERT INTO Seasontabl VALUES ('London','United Kingdom', 'Fall', 10.4, 218.5)\")\n",
    "SQLCU.execute(\"INSERT INTO Seasontabl VALUES ('Cairo','Egypt', 'Winter', 13.6, 16.5)\")\n",
    "SQLCU.execute(\"INSERT INTO Seasontabl VALUES ('Cairo','Egypt', 'Spring', 20.7, 6.5)\")\n",
    "SQLCU.execute(\"INSERT INTO Seasontabl VALUES ('Cairo','Egypt', 'Summer', 27.7, 0.1)\")\n",
    "SQLCU.execute(\"INSERT INTO Seasontabl VALUES ('Cairo','Egypt', 'Fall', 22.2, 4.5)\")\n",
    "\n"
   ]
  },
  {
   "cell_type": "code",
   "execution_count": 105,
   "id": "40b678fa",
   "metadata": {},
   "outputs": [
    {
     "name": "stdout",
     "output_type": "stream",
     "text": [
      "('Mumbai', 'India', 'Winter', 24.8, 5.9)\n",
      "('Mumbai', 'India', 'Spring', 28.4, 16.2)\n",
      "('Mumbai', 'India', 'Summer', 27.9, 1549.4)\n",
      "('Mumbai', 'India', 'Fall', 27.6, 346.0)\n",
      "('London', 'United Kingdom', 'Winter', 4.2, 207.7)\n",
      "('London', 'United Kingdom', 'Spring', 8.3, 169.6)\n",
      "('London', 'United Kingdom', 'Summer', 15.7, 157.0)\n",
      "('London', 'United Kingdom', 'Fall', 10.4, 218.5)\n",
      "('Cairo', 'Egypt', 'Winter', 13.6, 16.5)\n",
      "('Cairo', 'Egypt', 'Spring', 20.7, 6.5)\n",
      "('Cairo', 'Egypt', 'Summer', 27.7, 0.1)\n",
      "('Cairo', 'Egypt', 'Fall', 22.2, 4.5)\n"
     ]
    }
   ],
   "source": [
    "SQLCU.execute (\"SELECT * FROM Seasontabl\")\n",
    "for i in SQLCU:\n",
    "    print(i)"
   ]
  },
  {
   "cell_type": "markdown",
   "id": "51e43566",
   "metadata": {},
   "source": [
    "a) All the temperature data."
   ]
  },
  {
   "cell_type": "code",
   "execution_count": 33,
   "id": "bd8b3bfd",
   "metadata": {},
   "outputs": [
    {
     "name": "stdout",
     "output_type": "stream",
     "text": [
      "24.8\n",
      "28.4\n",
      "27.9\n",
      "27.6\n",
      "4.2\n",
      "8.3\n",
      "15.7\n",
      "10.4\n",
      "13.6\n",
      "20.7\n",
      "27.7\n",
      "22.2\n"
     ]
    }
   ],
   "source": [
    "SQLCU.execute('SELECT Temperature FROM Seasontabl')\n",
    "for i in result:\n",
    "    print(i[0])"
   ]
  },
  {
   "cell_type": "markdown",
   "id": "ac445688",
   "metadata": {},
   "source": [
    "b) All the cities, but without repetition"
   ]
  },
  {
   "cell_type": "code",
   "execution_count": 32,
   "id": "74d064d5",
   "metadata": {},
   "outputs": [
    {
     "name": "stdout",
     "output_type": "stream",
     "text": [
      "Mumbai\n",
      "London\n",
      "Cairo\n"
     ]
    }
   ],
   "source": [
    "SQLCU.execute('SELECT Distinct city from Seasontabl')\n",
    "for i in SQLCU:\n",
    "    print(i[0])"
   ]
  },
  {
   "cell_type": "markdown",
   "id": "d590c681",
   "metadata": {},
   "source": [
    "c) All the records for India."
   ]
  },
  {
   "cell_type": "code",
   "execution_count": 68,
   "id": "0c70603d",
   "metadata": {},
   "outputs": [
    {
     "name": "stdout",
     "output_type": "stream",
     "text": [
      "('Mumbai', 'India', 'Winter', 24.8, 5.9)\n",
      "('Mumbai', 'India', 'Spring', 28.4, 16.2)\n",
      "('Mumbai', 'India', 'Summer', 27.9, 1549.4)\n",
      "('Mumbai', 'India', 'Fall', 27.6, 346.0)\n"
     ]
    }
   ],
   "source": [
    "SQLCU.execute( \"SELECT * FROM Seasontabl where country = 'India'\")\n",
    "for i in SQLCU:\n",
    "    print(i)"
   ]
  },
  {
   "cell_type": "markdown",
   "id": "bcb1036c",
   "metadata": {},
   "source": [
    "d) All the Fall records"
   ]
  },
  {
   "cell_type": "code",
   "execution_count": 99,
   "id": "3e7af1f0",
   "metadata": {},
   "outputs": [
    {
     "name": "stdout",
     "output_type": "stream",
     "text": [
      "('Mumbai', 'India', 'Fall', 27.6, 346.0)\n",
      "('London', 'United Kingdom', 'Fall', 10.4, 218.5)\n",
      "('Cairo', 'Egypt', 'Fall', 22.2, 4.5)\n"
     ]
    }
   ],
   "source": [
    "SQLCU.execute( \"SELECT city,country,season,Temperature,Rainfall FROM Seasontabl where season = 'Fall'\")\n",
    "for i in SQLCU:\n",
    "    print(i)"
   ]
  },
  {
   "cell_type": "markdown",
   "id": "5dadd488",
   "metadata": {},
   "source": [
    "e) The city, country, and season for which the average rainfall is between 200\n",
    "and 400 millimeters."
   ]
  },
  {
   "cell_type": "code",
   "execution_count": 37,
   "id": "6973d534",
   "metadata": {},
   "outputs": [
    {
     "name": "stdout",
     "output_type": "stream",
     "text": [
      "('Mumbai', 'India', 'Fall', 346.0)\n",
      "('London', 'United Kingdom', 'Winter', 207.7)\n",
      "('London', 'United Kingdom', 'Fall', 218.5)\n"
     ]
    }
   ],
   "source": [
    "SQLCU.execute(\"SELECT city,country,season,Rainfall FROM Seasontabl where Rainfall > 200 and Rainfall < 400\")\n",
    "for i in SQLCU:\n",
    "    print(i)"
   ]
  },
  {
   "cell_type": "markdown",
   "id": "a4c41349",
   "metadata": {},
   "source": [
    "f) The city and country for which the average Fall temperature is above 20\n",
    "degrees, in increasing temperature order.\n"
   ]
  },
  {
   "cell_type": "code",
   "execution_count": 19,
   "id": "03c75035",
   "metadata": {},
   "outputs": [
    {
     "name": "stdout",
     "output_type": "stream",
     "text": [
      "('Cairo', 'Egypt', 20.7)\n",
      "('Cairo', 'Egypt', 22.2)\n",
      "('Mumbai', 'India', 24.8)\n",
      "('Mumbai', 'India', 27.6)\n",
      "('Cairo', 'Egypt', 27.7)\n",
      "('Mumbai', 'India', 27.9)\n",
      "('Mumbai', 'India', 28.4)\n"
     ]
    }
   ],
   "source": [
    "sql = \"SELECT city,country,Temperature FROM Seasontabl where Temperature > 20 ORDER BY Temperature\"\n",
    "result = SQLCU.execute(sql)\n",
    "for i in result:\n",
    "    print(i)"
   ]
  },
  {
   "cell_type": "markdown",
   "id": "b8f1e782",
   "metadata": {},
   "source": [
    "g) The total annual rainfall for Cairo.\n"
   ]
  },
  {
   "cell_type": "code",
   "execution_count": 27,
   "id": "08774cee",
   "metadata": {},
   "outputs": [
    {
     "name": "stdout",
     "output_type": "stream",
     "text": [
      "27.6\n"
     ]
    }
   ],
   "source": [
    "sql = \"SELECT SUM(Rainfall) FROM Seasontabl where city = 'Cairo'\"\n",
    "result = SQLCU.execute(sql)\n",
    "for i in result :\n",
    "    print(i[0])"
   ]
  },
  {
   "cell_type": "markdown",
   "id": "61986646",
   "metadata": {},
   "source": [
    "h) The total rainfall for each season."
   ]
  },
  {
   "cell_type": "code",
   "execution_count": 98,
   "id": "926b4258",
   "metadata": {},
   "outputs": [
    {
     "name": "stdout",
     "output_type": "stream",
     "text": [
      "('Fall', 569.0)\n",
      "('Spring', 192.29999999999998)\n",
      "('Summer', 1706.5)\n",
      "('Winter', 230.1)\n"
     ]
    }
   ],
   "source": [
    "sql = \"SELECT season,SUM(Rainfall) FROM Seasontabl GROUP BY season\"\n",
    "result = SQLCU.execute(sql)\n",
    "for i in result :\n",
    "    print(i)"
   ]
  },
  {
   "cell_type": "markdown",
   "id": "e547ce88",
   "metadata": {},
   "source": [
    "# Question 9\n",
    ". Suppose list words is defined as follows:\n",
    "Write list comprehension expressions that use list words and generate the following\n",
    "lists:\n"
   ]
  },
  {
   "cell_type": "code",
   "execution_count": 101,
   "id": "ca0821d5",
   "metadata": {},
   "outputs": [
    {
     "name": "stdout",
     "output_type": "stream",
     "text": [
      "['THE', 'QUICK', 'BROWN', 'FOX', 'JUMPS', 'OVER', 'THE', 'LAZY', 'DOG']\n",
      "\n",
      "['the', 'quick', 'brown', 'fox', 'jumps', 'over', 'the', 'lazy', 'dog']\n",
      "\n",
      "[3, 5, 5, 3, 5, 4, 3, 4, 3]\n",
      "\n",
      "[['THE', 'the', 3], ['QUICK', 'quick', 5], ['BROWN', 'brown', 5], ['FOX', 'fox', 3], ['JUMPS', 'jumps', 5], ['OVER', 'over', 4], ['THE', 'the', 3], ['LAZY', 'lazy', 4], ['DOG', 'dog', 3]]\n",
      "\n",
      "['quick', 'brown', 'jumps', 'over', 'lazy']\n"
     ]
    }
   ],
   "source": [
    "word = ['The', 'quick', 'brown', 'fox', 'jumps', 'over',\n",
    "'the', 'lazy', 'dog']\n",
    "result = [item.upper() for item in word]\n",
    "print(result)\n",
    "print(\"\")\n",
    "results = [items.lower() for items in word]\n",
    "print(results)\n",
    "print(\"\")\n",
    "results = [len(item) for item in word]\n",
    "print(results)\n",
    "print(\"\")\n",
    "results=[[item.upper(),item.lower(),len(item)] for item in word]\n",
    "print(results)\n",
    "print(\"\")\n",
    "result=[item for item in word if len(item)>=4]\n",
    "print(result)\n",
    "\n",
    "\n",
    "\n",
    "\n",
    "\n",
    "\n",
    "    "
   ]
  }
 ],
 "metadata": {
  "kernelspec": {
   "display_name": "Python 3 (ipykernel)",
   "language": "python",
   "name": "python3"
  },
  "language_info": {
   "codemirror_mode": {
    "name": "ipython",
    "version": 3
   },
   "file_extension": ".py",
   "mimetype": "text/x-python",
   "name": "python",
   "nbconvert_exporter": "python",
   "pygments_lexer": "ipython3",
   "version": "3.9.7"
  }
 },
 "nbformat": 4,
 "nbformat_minor": 5
}
